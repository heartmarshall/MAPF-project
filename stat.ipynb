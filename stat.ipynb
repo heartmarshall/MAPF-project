{
 "cells": [
  {
   "cell_type": "code",
   "execution_count": 1,
   "metadata": {},
   "outputs": [],
   "source": [
    "import gen_test\n",
    "import PBS_last_order\n",
    "import PBS_order\n",
    "import map\n",
    "from tqdm import tqdm\n",
    "import random"
   ]
  },
  {
   "cell_type": "code",
   "execution_count": 2,
   "metadata": {},
   "outputs": [],
   "source": [
    "data = []\n",
    "\n",
    "height = 15\n",
    "width = 30\n",
    "map_str1 = '''\n",
    ". . . # # . . . . . . . . # # . . . # . . # # . . . . . . .  \n",
    ". . . # # # # # . . # . . # # . . . . . . # # . . . . . . . \n",
    ". . . . . . . # . . # . . # # . . . # . . # # . . . . . . . \n",
    ". . . # # . . # . . # . . # # . . . # . . # # . . . . . . . \n",
    ". . . # # . . # . . # . . # # . . . # . . # # . . . . . . . \n",
    ". . . # # . . # . . # . . # # . . . # . . # # # # # . . . . \n",
    ". . . # # . . # . . # . . # # . . . # . . # # # # # . . . . \n",
    ". . . . . . . # . . # . . # # . . . # . . # . . . . . . . . \n",
    ". . . # # . . # . . # . . # # . . . # . . # . . . . . . . . \n",
    ". . . # # . . . . . # . . . . . . . # . . . . . . . . . . . \n",
    ". . . # # . . # . . # . . # # . . . # . . # . . . . . . . . \n",
    ". . . # # # # # # # # # # # # # . # # . # # # # # # # . # # \n",
    ". . . # # . . . . . . . . # # . . . . . . . . . . . . . . . \n",
    ". . . . . . . . . . . . . . . . . . . . . . . . . . . . . .\n",
    ". . . # # . . . . . . . . # # . . . . . . . . . . . . . . .\n",
    "'''\n",
    "\n",
    "data.append((map_str1, width, height))\n",
    "\n",
    "map_str2 = '''\n",
    ". . . . . . . . . . . . . . . . . . # . . # # . . . . . . .  \n",
    ". . . . . . . . . . . . . . . . . . . . . # # . . . . . . . \n",
    ". . . . . . . . . . . . . # # . . . . . . . . . . . . . . . \n",
    ". . . . . . . . . . . . . . . . . . # . . # # . . . . . . . \n",
    ". . . . . . . . . . . . . . . . . . # . . . . . . . . . . . \n",
    ". . . # # . . . . . . . . . . . . . . . . # . # # # . . . . \n",
    ". . . # # . . . . . . . . . . . . . . . . # . # # # . . . . \n",
    ". . . . . . . # . . # . . # # . . . # . . # . . . . . . . . \n",
    ". . . . . . . # . . . . . # # . . . . . . # . . . . . . . . \n",
    ". . . . . . . # . . # . . # # . . . # . . # . . . . . . . . \n",
    ". . . . . . . . . . . . . . . . . . . . . . . . . . . . . . \n",
    ". . . # # . . . . . . # # . . # . # # . # . # # # # # . # # \n",
    ". . . # # . . . . . . . . . . . . . . . . . . . . . . . . . \n",
    ". . . . . . . . . . . . . . . . . . . . . . . . . . . . . .\n",
    ". . . # # . . . . . . . . # # . . . . . . . . . . . . . . .\n",
    "'''\n",
    "\n",
    "data.append((map_str2, width, height))\n",
    "\n",
    "map_str3 = '''\n",
    ". . . . . . . . . . . . . . . . . . . . . . . . . . . . . .  \n",
    ". . . . . . . . . . . . . . . . . . . . . . . . . . . . . . \n",
    ". . . . . . . . . . . . . . . . . . . . . . . . . . . . . . \n",
    ". . . . . . . . . . . . . . . . . . . . . . . . . . . . . . \n",
    ". . . . . . . . . . . . . . . . . . . . . . . . . . . . . . \n",
    ". . . . . . . . . . . . . . . . . . . . . . . . . . . . . . \n",
    ". . . . . . . . . . . . . . . . . . . . . . . . . . . . . . \n",
    ". . . . . . . . . . . . . . . . . . . . . . . . . . . . . . \n",
    ". . . . . . . . . . . . . . . . . . . . . . . . . . . . . . \n",
    ". . . . . . . . . . . . . . . . . . . . . . . . . . . . . . \n",
    ". . . . . . . . . . . . . . . . . . . . . . . . . . . . . . \n",
    ". . . . . . . . . . . . . . . . . . . . . . . . . . . . . . \n",
    ". . . . . . . . . . . . . . . . . . . . . . . . . . . . . . \n",
    ". . . . . . . . . . . . . . . . . . . . . . . . . . . . . .\n",
    ". . . . . . . . . . . . . . . . . . . . . . . . . . . . . .\n",
    "'''\n",
    "\n",
    "data.append((map_str3, width, height))\n",
    "\n",
    "test_maps = [map.Map().read_from_string(*dt) for dt in data]"
   ]
  },
  {
   "cell_type": "code",
   "execution_count": 3,
   "metadata": {},
   "outputs": [
    {
     "name": "stderr",
     "output_type": "stream",
     "text": [
      " 12%|█▏        | 12/100 [00:10<01:18,  1.11it/s]\n"
     ]
    },
    {
     "ename": "UnboundLocalError",
     "evalue": "local variable 'p_path' referenced before assignment",
     "output_type": "error",
     "traceback": [
      "\u001b[0;31m---------------------------------------------------------------------------\u001b[0m",
      "\u001b[0;31mUnboundLocalError\u001b[0m                         Traceback (most recent call last)",
      "Cell \u001b[0;32mIn [3], line 9\u001b[0m\n\u001b[1;32m      6\u001b[0m times \u001b[39m=\u001b[39m [[],[]]\n\u001b[1;32m      8\u001b[0m \u001b[39mfor\u001b[39;00m starts, goals \u001b[39min\u001b[39;00m tqdm(tests):\n\u001b[0;32m----> 9\u001b[0m     dyn_obst_traj1, time1 \u001b[39m=\u001b[39m PBS_order\u001b[39m.\u001b[39;49mPBS(starts, goals, PBS_order\u001b[39m.\u001b[39;49mastar_timesteps, map_, PBS_order\u001b[39m.\u001b[39;49mmanhattan_distance, PBS_order\u001b[39m.\u001b[39;49mSearchTree)\n\u001b[1;32m     10\u001b[0m     order \u001b[39m=\u001b[39m random\u001b[39m.\u001b[39mshuffle(\u001b[39mlist\u001b[39m(\u001b[39mrange\u001b[39m(N)))\n\u001b[1;32m     11\u001b[0m     dyn_obst_traj2, time2 \u001b[39m=\u001b[39m PBS_last_order\u001b[39m.\u001b[39mFixedOrderSearch(starts, goals, map_, order\u001b[39m=\u001b[39morder)\n",
      "File \u001b[0;32m~/MAPF-project/PBS_order.py:574\u001b[0m, in \u001b[0;36mPBS\u001b[0;34m(starts, goals, search_func, map, *args)\u001b[0m\n\u001b[1;32m    571\u001b[0m     \u001b[39mif\u001b[39;00m (i, j) \u001b[39m!=\u001b[39m goals[agent]:\n\u001b[1;32m    572\u001b[0m         \u001b[39mmap\u001b[39m\u001b[39m.\u001b[39madd_obstacle(i, j)\n\u001b[0;32m--> 574\u001b[0m res, p_path \u001b[39m=\u001b[39m run_with_order(traj, agent, starts, goals, search_func, \u001b[39mmap\u001b[39;49m, \u001b[39m*\u001b[39;49margs)\n\u001b[1;32m    575\u001b[0m \u001b[39mmap\u001b[39m\u001b[39m.\u001b[39mclear_tmp()\n\u001b[1;32m    576\u001b[0m \u001b[39mif\u001b[39;00m res:\n",
      "File \u001b[0;32m~/MAPF-project/PBS_order.py:560\u001b[0m, in \u001b[0;36mrun_with_order\u001b[0;34m(traj_prev, id, starts, goals, search_func, map, *args)\u001b[0m\n\u001b[1;32m    558\u001b[0m     path \u001b[39m=\u001b[39m make_path(goal)[\u001b[39m0\u001b[39m]\n\u001b[1;32m    559\u001b[0m     p_path \u001b[39m=\u001b[39m list_pair_from_list_nodes(path)\n\u001b[0;32m--> 560\u001b[0m \u001b[39mreturn\u001b[39;00m \u001b[39mTrue\u001b[39;00m, p_path\n",
      "\u001b[0;31mUnboundLocalError\u001b[0m: local variable 'p_path' referenced before assignment"
     ]
    }
   ],
   "source": [
    "N = 50\n",
    "tests = []\n",
    "map_ = test_maps[2]\n",
    "for i in range(100):\n",
    "    tests.append(gen_test.gen_tasks(map_, N))\n",
    "times = [[],[]]\n",
    "\n",
    "for starts, goals in tqdm(tests):\n",
    "    dyn_obst_traj1, time1 = PBS_order.PBS(starts, goals, PBS_order.astar_timesteps, map_, PBS_order.manhattan_distance, PBS_order.SearchTree)\n",
    "    order = random.shuffle(list(range(N)))\n",
    "    dyn_obst_traj2, time2 = PBS_last_order.FixedOrderSearch(starts, goals, map_, order=order)\n",
    "    times[0].append(time1)\n",
    "    times[1].append(time2)\n",
    "\n",
    "print(times)"
   ]
  },
  {
   "cell_type": "code",
   "execution_count": null,
   "metadata": {},
   "outputs": [],
   "source": []
  }
 ],
 "metadata": {
  "kernelspec": {
   "display_name": "Python 3",
   "language": "python",
   "name": "python3"
  },
  "language_info": {
   "codemirror_mode": {
    "name": "ipython",
    "version": 3
   },
   "file_extension": ".py",
   "mimetype": "text/x-python",
   "name": "python",
   "nbconvert_exporter": "python",
   "pygments_lexer": "ipython3",
   "version": "3.10.6"
  },
  "orig_nbformat": 4,
  "vscode": {
   "interpreter": {
    "hash": "e7370f93d1d0cde622a1f8e1c04877d8463912d04d973331ad4851f04de6915a"
   }
  }
 },
 "nbformat": 4,
 "nbformat_minor": 2
}
