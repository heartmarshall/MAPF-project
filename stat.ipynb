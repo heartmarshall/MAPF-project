{
 "cells": [
  {
   "cell_type": "code",
   "execution_count": 4,
   "metadata": {},
   "outputs": [],
   "source": [
    "import gen_test\n",
    "import PBS_last_order\n",
    "import PBS_order\n",
    "import map\n",
    "from tqdm import tqdm\n",
    "import random\n",
    "import numpy as np\n",
    "import matplotlib.pyplot as plt"
   ]
  },
  {
   "cell_type": "code",
   "execution_count": 2,
   "metadata": {},
   "outputs": [],
   "source": [
    "data = []\n",
    "\n",
    "height = 15\n",
    "width = 30\n",
    "map_str1 = '''\n",
    ". . . # # . . . . . . . . # # . . . # . . # # . . . . . . .  \n",
    ". . . # # # # # . . # . . # # . . . . . . # # . . . . . . . \n",
    ". . . . . . . # . . # . . # # . . . # . . # # . . . . . . . \n",
    ". . . # # . . # . . # . . # # . . . # . . # # . . . . . . . \n",
    ". . . # # . . # . . # . . # # . . . # . . # # . . . . . . . \n",
    ". . . # # . . # . . # . . # # . . . # . . # # # # # . . . . \n",
    ". . . # # . . # . . # . . # # . . . # . . # # # # # . . . . \n",
    ". . . . . . . # . . # . . # # . . . # . . # . . . . . . . . \n",
    ". . . # # . . # . . # . . # # . . . # . . # . . . . . . . . \n",
    ". . . # # . . . . . # . . . . . . . # . . . . . . . . . . . \n",
    ". . . # # . . # . . # . . # # . . . # . . # . . . . . . . . \n",
    ". . . # # # # # # # # # # # # # . # # . # # # # # # # . # # \n",
    ". . . # # . . . . . . . . # # . . . . . . . . . . . . . . . \n",
    ". . . . . . . . . . . . . . . . . . . . . . . . . . . . . .\n",
    ". . . # # . . . . . . . . # # . . . . . . . . . . . . . . .\n",
    "'''\n",
    "\n",
    "data.append((map_str1, width, height))\n",
    "\n",
    "map_str2 = '''\n",
    ". . . . . . . . . . . . . . . . . . # . . # # . . . . . . .  \n",
    ". . . . . . . . . . . . . . . . . . . . . # # . . . . . . . \n",
    ". . . . . . . . . . . . . # # . . . . . . . . . . . . . . . \n",
    ". . . . . . . . . . . . . . . . . . # . . # # . . . . . . . \n",
    ". . . . . . . . . . . . . . . . . . # . . . . . . . . . . . \n",
    ". . . # # . . . . . . . . . . . . . . . . # . # # # . . . . \n",
    ". . . # # . . . . . . . . . . . . . . . . # . # # # . . . . \n",
    ". . . . . . . # . . # . . # # . . . # . . # . . . . . . . . \n",
    ". . . . . . . # . . . . . # # . . . . . . # . . . . . . . . \n",
    ". . . . . . . # . . # . . # # . . . # . . # . . . . . . . . \n",
    ". . . . . . . . . . . . . . . . . . . . . . . . . . . . . . \n",
    ". . . # # . . . . . . # # . . # . # # . # . # # # # # . # # \n",
    ". . . # # . . . . . . . . . . . . . . . . . . . . . . . . . \n",
    ". . . . . . . . . . . . . . . . . . . . . . . . . . . . . .\n",
    ". . . # # . . . . . . . . # # . . . . . . . . . . . . . . .\n",
    "'''\n",
    "\n",
    "data.append((map_str2, width, height))\n",
    "\n",
    "map_str3 = '''\n",
    ". . . . . . . . . . . . . . . . . . . . . . . . . . . . . .  \n",
    ". . . . . . . . . . . . . . . . . . . . . . . . . . . . . . \n",
    ". . . . . . . . . . . . . . . . . . . . . . . . . . . . . . \n",
    ". . . . . . . . . . . . . . . . . . . . . . . . . . . . . . \n",
    ". . . . . . . . . . . . . . . . . . . . . . . . . . . . . . \n",
    ". . . . . . . . . . . . . . . . . . . . . . . . . . . . . . \n",
    ". . . . . . . . . . . . . . . . . . . . . . . . . . . . . . \n",
    ". . . . . . . . . . . . . . . . . . . . . . . . . . . . . . \n",
    ". . . . . . . . . . . . . . . . . . . . . . . . . . . . . . \n",
    ". . . . . . . . . . . . . . . . . . . . . . . . . . . . . . \n",
    ". . . . . . . . . . . . . . . . . . . . . . . . . . . . . . \n",
    ". . . . . . . . . . . . . . . . . . . . . . . . . . . . . . \n",
    ". . . . . . . . . . . . . . . . . . . . . . . . . . . . . . \n",
    ". . . . . . . . . . . . . . . . . . . . . . . . . . . . . .\n",
    ". . . . . . . . . . . . . . . . . . . . . . . . . . . . . .\n",
    "'''\n",
    "\n",
    "data.append((map_str3, width, height))\n",
    "\n",
    "test_maps = [map.Map().read_from_string(*dt) for dt in data]"
   ]
  },
  {
   "cell_type": "code",
   "execution_count": 3,
   "metadata": {},
   "outputs": [
    {
     "name": "stderr",
     "output_type": "stream",
     "text": [
      "  0%|          | 0/20 [00:00<?, ?it/s]"
     ]
    },
    {
     "name": "stdout",
     "output_type": "stream",
     "text": [
      "agent 2 has failed\n",
      "agent 5 has failed\n"
     ]
    },
    {
     "name": "stderr",
     "output_type": "stream",
     "text": [
      " 10%|█         | 2/20 [00:01<00:12,  1.44it/s]"
     ]
    },
    {
     "name": "stdout",
     "output_type": "stream",
     "text": [
      "agent 0 has failed\n",
      "agent 2 has failed\n",
      "agent 9 has failed\n",
      "agent 3 has failed\n",
      "agent 6 has failed\n"
     ]
    },
    {
     "name": "stderr",
     "output_type": "stream",
     "text": [
      " 15%|█▌        | 3/20 [00:02<00:14,  1.18it/s]"
     ]
    },
    {
     "name": "stdout",
     "output_type": "stream",
     "text": [
      "agent 1 has failed\n",
      "agent 4 has failed\n",
      "agent 6 has failed\n",
      "agent 7 has failed\n"
     ]
    },
    {
     "name": "stderr",
     "output_type": "stream",
     "text": [
      " 25%|██▌       | 5/20 [00:03<00:08,  1.75it/s]"
     ]
    },
    {
     "name": "stdout",
     "output_type": "stream",
     "text": [
      "agent 8 has failed\n",
      "agent 2 has failed\n",
      "agent 2 has failed\n",
      "agent 3 has failed\n",
      "agent 4 has failed\n",
      "agent 6 has failed\n"
     ]
    },
    {
     "name": "stderr",
     "output_type": "stream",
     "text": [
      " 25%|██▌       | 5/20 [00:04<00:13,  1.13it/s]"
     ]
    },
    {
     "name": "stdout",
     "output_type": "stream",
     "text": [
      "agent 7 has failed\n"
     ]
    },
    {
     "name": "stderr",
     "output_type": "stream",
     "text": [
      "\n"
     ]
    },
    {
     "ename": "KeyboardInterrupt",
     "evalue": "",
     "output_type": "error",
     "traceback": [
      "\u001b[0;31m---------------------------------------------------------------------------\u001b[0m",
      "\u001b[0;31mKeyboardInterrupt\u001b[0m                         Traceback (most recent call last)",
      "Cell \u001b[0;32mIn [3], line 11\u001b[0m\n\u001b[1;32m      9\u001b[0m dyn_obst_traj1, time1 \u001b[39m=\u001b[39m PBS_order\u001b[39m.\u001b[39mPBS(starts, goals, PBS_order\u001b[39m.\u001b[39mastar_timesteps, map_, PBS_order\u001b[39m.\u001b[39mmanhattan_distance, PBS_order\u001b[39m.\u001b[39mSearchTree)\n\u001b[1;32m     10\u001b[0m order \u001b[39m=\u001b[39m random\u001b[39m.\u001b[39mshuffle(\u001b[39mlist\u001b[39m(\u001b[39mrange\u001b[39m(N)))\n\u001b[0;32m---> 11\u001b[0m dyn_obst_traj2, time2 \u001b[39m=\u001b[39m PBS_last_order\u001b[39m.\u001b[39;49mFixedOrderSearch(starts, goals, map_, order\u001b[39m=\u001b[39;49morder)\n\u001b[1;32m     12\u001b[0m times[\u001b[39m0\u001b[39m]\u001b[39m.\u001b[39mappend(time1)\n\u001b[1;32m     13\u001b[0m times[\u001b[39m1\u001b[39m]\u001b[39m.\u001b[39mappend(time2)\n",
      "File \u001b[0;32m~/MAPF-project/PBS_last_order.py:332\u001b[0m, in \u001b[0;36mFixedOrderSearch\u001b[0;34m(starts, goals, map, order, search_func, **kwargs)\u001b[0m\n\u001b[1;32m    330\u001b[0m lower_time_limit \u001b[39m=\u001b[39m \u001b[39m0\u001b[39m\n\u001b[1;32m    331\u001b[0m \u001b[39mfor\u001b[39;00m agent \u001b[39min\u001b[39;00m \u001b[39mrange\u001b[39m(\u001b[39mlen\u001b[39m(starts)):\n\u001b[0;32m--> 332\u001b[0m     res, p_path, steps, lower_time_limit \u001b[39m=\u001b[39m run_with_order(traj, \n\u001b[1;32m    333\u001b[0m                                                           traj_stopped,\n\u001b[1;32m    334\u001b[0m                                                           starts[order[agent]], \n\u001b[1;32m    335\u001b[0m                                                           goals[order[agent]], \n\u001b[1;32m    336\u001b[0m                                                           search_func\u001b[39m=\u001b[39;49msearch_func, \n\u001b[1;32m    337\u001b[0m                                                           \u001b[39mmap\u001b[39;49m\u001b[39m=\u001b[39;49m\u001b[39mmap\u001b[39;49m, \n\u001b[1;32m    338\u001b[0m                                                           lower_time_limit\u001b[39m=\u001b[39;49mlower_time_limit, \u001b[39m*\u001b[39;49m\u001b[39m*\u001b[39;49mkwargs)\n\u001b[1;32m    339\u001b[0m     \u001b[39mmap\u001b[39m\u001b[39m.\u001b[39mclear_tmp()\n\u001b[1;32m    340\u001b[0m     \u001b[39mif\u001b[39;00m res:\n",
      "File \u001b[0;32m~/MAPF-project/PBS_last_order.py:309\u001b[0m, in \u001b[0;36mrun_with_order\u001b[0;34m(traj_prev, traj_stopped, start, goal, search_func, map, lower_time_limit, **kwargs)\u001b[0m\n\u001b[1;32m    305\u001b[0m \u001b[39mdef\u001b[39;00m \u001b[39mrun_with_order\u001b[39m(traj_prev, traj_stopped, start, goal, search_func, \u001b[39mmap\u001b[39m: Map, lower_time_limit\u001b[39m=\u001b[39m\u001b[39m0\u001b[39m, \u001b[39m*\u001b[39m\u001b[39m*\u001b[39mkwargs):\n\u001b[1;32m    307\u001b[0m     ca_table \u001b[39m=\u001b[39m CATable(traj_prev, traj_stopped)\n\u001b[0;32m--> 309\u001b[0m     result \u001b[39m=\u001b[39m search_func(\u001b[39mmap\u001b[39;49m, ca_table, start[\u001b[39m0\u001b[39;49m], start[\u001b[39m1\u001b[39;49m], goal[\u001b[39m0\u001b[39;49m], goal[\u001b[39m1\u001b[39;49m], \n\u001b[1;32m    310\u001b[0m                          lower_time_limit\u001b[39m=\u001b[39;49mlower_time_limit, \u001b[39m*\u001b[39;49m\u001b[39m*\u001b[39;49mkwargs)\n\u001b[1;32m    312\u001b[0m     \u001b[39mif\u001b[39;00m result[\u001b[39m0\u001b[39m]:\n\u001b[1;32m    313\u001b[0m         goal \u001b[39m=\u001b[39m result[\u001b[39m1\u001b[39m]\n",
      "File \u001b[0;32m~/MAPF-project/PBS_last_order.py:262\u001b[0m, in \u001b[0;36mastar_timesteps\u001b[0;34m(grid_map, ca_table, start_i, start_j, goal_i, goal_j, heuristic_func, search_tree, lower_time_limit)\u001b[0m\n\u001b[1;32m    260\u001b[0m \u001b[39mwhile\u001b[39;00m \u001b[39mnot\u001b[39;00m ast\u001b[39m.\u001b[39mopen_is_empty():\n\u001b[1;32m    261\u001b[0m     steps \u001b[39m+\u001b[39m\u001b[39m=\u001b[39m \u001b[39m1\u001b[39m\n\u001b[0;32m--> 262\u001b[0m     best_node \u001b[39m=\u001b[39m ast\u001b[39m.\u001b[39;49mget_best_node_from_open()\n\u001b[1;32m    263\u001b[0m     best \u001b[39m=\u001b[39m (best_node\u001b[39m.\u001b[39mi, best_node\u001b[39m.\u001b[39mj)\n\u001b[1;32m    264\u001b[0m     ast\u001b[39m.\u001b[39madd_to_closed(best_node)\n",
      "File \u001b[0;32m~/MAPF-project/PBS_last_order.py:48\u001b[0m, in \u001b[0;36mSearchTree.get_best_node_from_open\u001b[0;34m(self)\u001b[0m\n\u001b[1;32m     46\u001b[0m \u001b[39mdef\u001b[39;00m \u001b[39mget_best_node_from_open\u001b[39m(\u001b[39mself\u001b[39m):\n\u001b[1;32m     47\u001b[0m     node \u001b[39m=\u001b[39m heappop(\u001b[39mself\u001b[39m\u001b[39m.\u001b[39m_open)\n\u001b[0;32m---> 48\u001b[0m     \u001b[39mwhile\u001b[39;00m node \u001b[39min\u001b[39;49;00m \u001b[39mself\u001b[39;49m\u001b[39m.\u001b[39;49m_closed:\n\u001b[1;32m     49\u001b[0m         node \u001b[39m=\u001b[39m heappop(\u001b[39mself\u001b[39m\u001b[39m.\u001b[39m_open)\n\u001b[1;32m     50\u001b[0m     \u001b[39mreturn\u001b[39;00m node\n",
      "File \u001b[0;32m~/MAPF-project/PBS_last_order.py:20\u001b[0m, in \u001b[0;36mNode.__eq__\u001b[0;34m(self, other)\u001b[0m\n\u001b[1;32m     17\u001b[0m         \u001b[39mself\u001b[39m\u001b[39m.\u001b[39mf \u001b[39m=\u001b[39m f        \n\u001b[1;32m     18\u001b[0m     \u001b[39mself\u001b[39m\u001b[39m.\u001b[39mparent \u001b[39m=\u001b[39m parent\n\u001b[0;32m---> 20\u001b[0m \u001b[39mdef\u001b[39;00m \u001b[39m__eq__\u001b[39m(\u001b[39mself\u001b[39m, other):\n\u001b[1;32m     21\u001b[0m     \u001b[39mreturn\u001b[39;00m (\u001b[39mself\u001b[39m\u001b[39m.\u001b[39mi \u001b[39m==\u001b[39m other\u001b[39m.\u001b[39mi) \u001b[39mand\u001b[39;00m (\u001b[39mself\u001b[39m\u001b[39m.\u001b[39mj \u001b[39m==\u001b[39m other\u001b[39m.\u001b[39mj) \u001b[39mand\u001b[39;00m (\u001b[39mself\u001b[39m\u001b[39m.\u001b[39mg \u001b[39m==\u001b[39m other\u001b[39m.\u001b[39mg)\n\u001b[1;32m     23\u001b[0m \u001b[39mdef\u001b[39;00m \u001b[39m__hash__\u001b[39m(\u001b[39mself\u001b[39m):\n",
      "\u001b[0;31mKeyboardInterrupt\u001b[0m: "
     ]
    }
   ],
   "source": [
    "alg1 = []\n",
    "alg2 = []\n",
    "for map_ in test_maps:\n",
    "    for N in range(10, 40, 2):\n",
    "        tests = []\n",
    "        for i in range(5):\n",
    "            tests.append(gen_test.gen_tasks(map_, N))\n",
    "        times = [[],[]]\n",
    "        for starts, goals in tests:\n",
    "            dyn_obst_traj1, time1 = PBS_order.PBS(starts, goals, PBS_order.astar_timesteps, map_, PBS_order.manhattan_distance, PBS_order.SearchTree)\n",
    "            order = random.shuffle(list(range(N)))\n",
    "            dyn_obst_traj2, time2 = PBS_last_order.FixedOrderSearch(starts, goals, map_, order=order)\n",
    "            times[0].append(time1)\n",
    "            times[1].append(time2)\n",
    "        times1 = np.array(times[0])\n",
    "        times2 = np.array(times[2])\n",
    "\n"
   ]
  },
  {
   "cell_type": "code",
   "execution_count": null,
   "metadata": {},
   "outputs": [],
   "source": []
  }
 ],
 "metadata": {
  "kernelspec": {
   "display_name": "Python 3",
   "language": "python",
   "name": "python3"
  },
  "language_info": {
   "codemirror_mode": {
    "name": "ipython",
    "version": 3
   },
   "file_extension": ".py",
   "mimetype": "text/x-python",
   "name": "python",
   "nbconvert_exporter": "python",
   "pygments_lexer": "ipython3",
   "version": "3.10.6"
  },
  "orig_nbformat": 4,
  "vscode": {
   "interpreter": {
    "hash": "e7370f93d1d0cde622a1f8e1c04877d8463912d04d973331ad4851f04de6915a"
   }
  }
 },
 "nbformat": 4,
 "nbformat_minor": 2
}
