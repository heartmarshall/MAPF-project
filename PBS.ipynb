{
 "cells": [
  {
   "cell_type": "code",
   "execution_count": 1,
   "metadata": {},
   "outputs": [],
   "source": [
    "import main_file as impl\n"
   ]
  },
  {
   "cell_type": "code",
   "execution_count": 2,
   "metadata": {},
   "outputs": [],
   "source": [
    "height = 15\n",
    "width = 30\n",
    "map_str = '''\n",
    ". . . # # . . . . . . . . # # . . . # . . # # . . . . . . .  \n",
    ". . . # # # # # . . # . . # # . . . . . . # # . . . . . . . \n",
    ". . . . . . . # . . # . . # # . . . # . . # # . . . . . . . \n",
    ". . . # # . . # . . # . . # # . . . # . . # # . . . . . . . \n",
    ". . . # # . . # . . # . . # # . . . # . . # # . . . . . . . \n",
    ". . . # # . . # . . # . . # # . . . # . . # # # # # . . . . \n",
    ". . . # # . . # . . # . . # # . . . # . . # # # # # . . . . \n",
    ". . . . . . . # . . # . . # # . . . # . . # . . . . . . . . \n",
    ". . . # # . . # . . # . . # # . . . # . . # . . . . . . . . \n",
    ". . . # # . . # . . # . . # # . . . # . . # . . . . . . . . \n",
    ". . . # # . . . . . # . . . . . . . # . . . . . . . . . . . \n",
    ". . . # # # # # # # # # # # # # . # # . # # # # # # # . # # \n",
    ". . . # # . . . . . . . . # # . . . . . . . . . . . . . . . \n",
    ". . . . . . . . . . . . . . . . . . . . . . . . . . . . . .\n",
    ". . . # # . . . . . . . . # # . . . . . . . . . . . . . . .\n",
    "'''\n",
    "\n",
    "task_map = impl.Map()\n",
    "task_map.read_from_string(map_str, width, height)"
   ]
  },
  {
   "cell_type": "code",
   "execution_count": 4,
   "metadata": {},
   "outputs": [
    {
     "ename": "KeyboardInterrupt",
     "evalue": "",
     "output_type": "error",
     "traceback": [
      "\u001b[0;31m---------------------------------------------------------------------------\u001b[0m",
      "\u001b[0;31mKeyboardInterrupt\u001b[0m                         Traceback (most recent call last)",
      "Cell \u001b[0;32mIn [4], line 4\u001b[0m\n\u001b[1;32m      1\u001b[0m starts \u001b[39m=\u001b[39m [(\u001b[39m0\u001b[39m, \u001b[39m0\u001b[39m), (\u001b[39m14\u001b[39m, \u001b[39m0\u001b[39m)]\n\u001b[1;32m      2\u001b[0m goals \u001b[39m=\u001b[39m [(\u001b[39m12\u001b[39m, \u001b[39m2\u001b[39m), (\u001b[39m2\u001b[39m, \u001b[39m2\u001b[39m)]\n\u001b[0;32m----> 4\u001b[0m dyn_obst_traj\u001b[39m=\u001b[39m impl\u001b[39m.\u001b[39;49mPBS(starts, goals, impl\u001b[39m.\u001b[39;49mastar_timesteps_one_step, task_map, impl\u001b[39m.\u001b[39;49mmanhattan_distance, impl\u001b[39m.\u001b[39;49mSearchTree)\n\u001b[1;32m      5\u001b[0m \u001b[39mprint\u001b[39m(\u001b[39m\"\u001b[39m\u001b[39m\"\u001b[39m)\n",
      "File \u001b[0;32m~/Heuristic project/MAPF-project/main_file.py:647\u001b[0m, in \u001b[0;36mPBS\u001b[0;34m(starts, goals, search_func, map, *args)\u001b[0m\n\u001b[1;32m    645\u001b[0m traj \u001b[39m=\u001b[39m {i: [starts[i]] \u001b[39mfor\u001b[39;00m i \u001b[39min\u001b[39;00m \u001b[39mrange\u001b[39m(\u001b[39mlen\u001b[39m(starts))}\n\u001b[1;32m    646\u001b[0m \u001b[39mfor\u001b[39;00m time \u001b[39min\u001b[39;00m \u001b[39mrange\u001b[39m(\u001b[39m50\u001b[39m):\n\u001b[0;32m--> 647\u001b[0m     ret_value, next_positions, finished \u001b[39m=\u001b[39m run_with_order_one_step(order, traj\u001b[39m.\u001b[39;49mcopy(), goals, search_func, \u001b[39mmap\u001b[39;49m, \u001b[39m*\u001b[39;49margs)\n\u001b[1;32m    648\u001b[0m     \u001b[39mif\u001b[39;00m ret_value:\n\u001b[1;32m    649\u001b[0m         \u001b[39mfor\u001b[39;00m agent \u001b[39min\u001b[39;00m next_positions:\n",
      "File \u001b[0;32m~/Heuristic project/MAPF-project/main_file.py:628\u001b[0m, in \u001b[0;36mrun_with_order_one_step\u001b[0;34m(order, starts, goals, search_func, map, *args)\u001b[0m\n\u001b[1;32m    626\u001b[0m start \u001b[39m=\u001b[39m Node(i, j)\n\u001b[1;32m    627\u001b[0m goal \u001b[39m=\u001b[39m Node(\u001b[39m*\u001b[39mgoals[agent])\n\u001b[0;32m--> 628\u001b[0m result, next_position, is_finished \u001b[39m=\u001b[39m search_func(\u001b[39mmap\u001b[39;49m, ca_table, start\u001b[39m.\u001b[39;49mi, start\u001b[39m.\u001b[39;49mj, goal\u001b[39m.\u001b[39;49mi, goal\u001b[39m.\u001b[39;49mj, \u001b[39m*\u001b[39;49margs)\n\u001b[1;32m    629\u001b[0m \u001b[39mmap\u001b[39m\u001b[39m.\u001b[39mappend_obstacle(\u001b[39m*\u001b[39mnext_position)\n\u001b[1;32m    630\u001b[0m \u001b[39mmap\u001b[39m\u001b[39m.\u001b[39mappend_obstacle(start\u001b[39m.\u001b[39mi, start\u001b[39m.\u001b[39mj)\n",
      "File \u001b[0;32m~/Heuristic project/MAPF-project/main_file.py:505\u001b[0m, in \u001b[0;36mastar_timesteps_one_step\u001b[0;34m(grid_map, ca_table, start_i, start_j, goal_i, goal_j, heuristic_func, search_tree)\u001b[0m\n\u001b[1;32m    503\u001b[0m \u001b[39mwhile\u001b[39;00m \u001b[39mnot\u001b[39;00m ast\u001b[39m.\u001b[39mopen_is_empty():\n\u001b[1;32m    504\u001b[0m     steps \u001b[39m+\u001b[39m\u001b[39m=\u001b[39m \u001b[39m1\u001b[39m\n\u001b[0;32m--> 505\u001b[0m     best_node \u001b[39m=\u001b[39m ast\u001b[39m.\u001b[39;49mget_best_node_from_open()\n\u001b[1;32m    506\u001b[0m     best \u001b[39m=\u001b[39m (best_node\u001b[39m.\u001b[39mi, best_node\u001b[39m.\u001b[39mj)\n\u001b[1;32m    507\u001b[0m     ast\u001b[39m.\u001b[39madd_to_closed(best_node)\n",
      "File \u001b[0;32m~/Heuristic project/MAPF-project/main_file.py:247\u001b[0m, in \u001b[0;36mSearchTree.get_best_node_from_open\u001b[0;34m(self)\u001b[0m\n\u001b[1;32m    245\u001b[0m \u001b[39mdef\u001b[39;00m \u001b[39mget_best_node_from_open\u001b[39m(\u001b[39mself\u001b[39m):\n\u001b[1;32m    246\u001b[0m     node \u001b[39m=\u001b[39m heappop(\u001b[39mself\u001b[39m\u001b[39m.\u001b[39m_open)\n\u001b[0;32m--> 247\u001b[0m     \u001b[39mwhile\u001b[39;00m node \u001b[39min\u001b[39;49;00m \u001b[39mself\u001b[39;49m\u001b[39m.\u001b[39;49m_closed:\n\u001b[1;32m    248\u001b[0m         node \u001b[39m=\u001b[39m heappop(\u001b[39mself\u001b[39m\u001b[39m.\u001b[39m_open)\n\u001b[1;32m    249\u001b[0m     \u001b[39mreturn\u001b[39;00m node\n",
      "File \u001b[0;32m~/Heuristic project/MAPF-project/main_file.py:208\u001b[0m, in \u001b[0;36mNode.__eq__\u001b[0;34m(self, other)\u001b[0m\n\u001b[1;32m    203\u001b[0m         \u001b[39mself\u001b[39m\u001b[39m.\u001b[39mf \u001b[39m=\u001b[39m f        \n\u001b[1;32m    204\u001b[0m     \u001b[39mself\u001b[39m\u001b[39m.\u001b[39mparent \u001b[39m=\u001b[39m parent\n\u001b[0;32m--> 208\u001b[0m \u001b[39mdef\u001b[39;00m \u001b[39m__eq__\u001b[39m(\u001b[39mself\u001b[39m, other):\n\u001b[1;32m    209\u001b[0m     \u001b[39m'''\u001b[39;00m\n\u001b[1;32m    210\u001b[0m \u001b[39m    Estimating where the two search nodes are the same,\u001b[39;00m\n\u001b[1;32m    211\u001b[0m \u001b[39m    which is needed to detect dublicates in the search tree.\u001b[39;00m\n\u001b[1;32m    212\u001b[0m \u001b[39m    '''\u001b[39;00m\n\u001b[1;32m    213\u001b[0m     \u001b[39mreturn\u001b[39;00m (\u001b[39mself\u001b[39m\u001b[39m.\u001b[39mi \u001b[39m==\u001b[39m other\u001b[39m.\u001b[39mi) \u001b[39mand\u001b[39;00m (\u001b[39mself\u001b[39m\u001b[39m.\u001b[39mj \u001b[39m==\u001b[39m other\u001b[39m.\u001b[39mj) \u001b[39mand\u001b[39;00m (\u001b[39mself\u001b[39m\u001b[39m.\u001b[39mg \u001b[39m==\u001b[39m other\u001b[39m.\u001b[39mg)\n",
      "File \u001b[0;32m_pydevd_bundle/pydevd_cython.pyx:1443\u001b[0m, in \u001b[0;36m_pydevd_bundle.pydevd_cython.SafeCallWrapper.__call__\u001b[0;34m()\u001b[0m\n",
      "File \u001b[0;32m_pydevd_bundle/pydevd_cython.pyx:1792\u001b[0m, in \u001b[0;36m_pydevd_bundle.pydevd_cython.ThreadTracer.__call__\u001b[0;34m()\u001b[0m\n",
      "File \u001b[0;32m~/.local/lib/python3.10/site-packages/debugpy/_vendored/pydevd/pydevd.py:1269\u001b[0m, in \u001b[0;36mPyDB.apply_files_filter\u001b[0;34m(self, frame, original_filename, force_check_project_scope)\u001b[0m\n\u001b[1;32m   1265\u001b[0m             cache[cache_key] \u001b[39m=\u001b[39m \u001b[39mself\u001b[39m\u001b[39m.\u001b[39m_files_filtering\u001b[39m.\u001b[39mexclude_by_filter(absolute_filename, module_name)\n\u001b[1;32m   1267\u001b[0m         \u001b[39mreturn\u001b[39;00m cache[cache_key]\n\u001b[0;32m-> 1269\u001b[0m \u001b[39mdef\u001b[39;00m \u001b[39mapply_files_filter\u001b[39m(\u001b[39mself\u001b[39m, frame, original_filename, force_check_project_scope):\n\u001b[1;32m   1270\u001b[0m     \u001b[39m'''\u001b[39;00m\n\u001b[1;32m   1271\u001b[0m \u001b[39m    Should only be called if `self.is_files_filter_enabled == True` or `force_check_project_scope == True`.\u001b[39;00m\n\u001b[1;32m   1272\u001b[0m \n\u001b[0;32m   (...)\u001b[0m\n\u001b[1;32m   1285\u001b[0m \u001b[39m        included.\u001b[39;00m\n\u001b[1;32m   1286\u001b[0m \u001b[39m    '''\u001b[39;00m\n\u001b[1;32m   1287\u001b[0m     cache_key \u001b[39m=\u001b[39m (frame\u001b[39m.\u001b[39mf_code\u001b[39m.\u001b[39mco_firstlineno, original_filename, force_check_project_scope, frame\u001b[39m.\u001b[39mf_code)\n",
      "\u001b[0;31mKeyboardInterrupt\u001b[0m: "
     ]
    }
   ],
   "source": [
    "starts = [(0, 0), (14, 0)]\n",
    "goals = [(12, 2), (2, 2)]\n",
    "\n",
    "dyn_obst_traj= impl.PBS(starts, goals, impl.astar_timesteps_one_step, task_map, impl.manhattan_distance, impl.SearchTree)\n",
    "print(\"\")\n"
   ]
  },
  {
   "cell_type": "code",
   "execution_count": null,
   "metadata": {},
   "outputs": [],
   "source": [
    "impl.draw(task_map, dyn_obst_traj, 40)"
   ]
  }
 ],
 "metadata": {
  "kernelspec": {
   "display_name": "Python 3",
   "language": "python",
   "name": "python3"
  },
  "language_info": {
   "codemirror_mode": {
    "name": "ipython",
    "version": 3
   },
   "file_extension": ".py",
   "mimetype": "text/x-python",
   "name": "python",
   "nbconvert_exporter": "python",
   "pygments_lexer": "ipython3",
   "version": "3.10.6"
  },
  "orig_nbformat": 4,
  "vscode": {
   "interpreter": {
    "hash": "e7370f93d1d0cde622a1f8e1c04877d8463912d04d973331ad4851f04de6915a"
   }
  }
 },
 "nbformat": 4,
 "nbformat_minor": 2
}
