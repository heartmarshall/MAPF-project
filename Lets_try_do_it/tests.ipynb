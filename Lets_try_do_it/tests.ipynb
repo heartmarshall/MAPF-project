{
 "cells": [
  {
   "cell_type": "code",
   "execution_count": 1,
   "metadata": {},
   "outputs": [],
   "source": [
    "import nbimporter\n",
    "\n",
    "from map import Map\n",
    "import visualization\n",
    "from FixedPriorities import FixedOrderSearch"
   ]
  },
  {
   "cell_type": "code",
   "execution_count": 2,
   "metadata": {},
   "outputs": [],
   "source": [
    "data = []\n",
    "\n",
    "height = 15\n",
    "width = 30\n",
    "map_str1 = '''\n",
    ". . . # # . . . . . . . . # # . . . # . . # # . . . . . . .  \n",
    ". . . # # # # # . . # . . # # . . . . . . # # . . . . . . . \n",
    ". . . . . . . # . . # . . # # . . . # . . # # . . . . . . . \n",
    ". . . # # . . # . . # . . # # . . . # . . # # . . . . . . . \n",
    ". . . # # . . # . . # . . # # . . . # . . # # . . . . . . . \n",
    ". . . # # . . # . . # . . # # . . . # . . # # # # # . . . . \n",
    ". . . # # . . # . . # . . # # . . . # . . # # # # # . . . . \n",
    ". . . . . . . # . . # . . # # . . . # . . # . . . . . . . . \n",
    ". . . # # . . # . . # . . # # . . . # . . # . . . . . . . . \n",
    ". . . # # . . . . . # . . . . . . . # . . . . . . . . . . . \n",
    ". . . # # . . # . . # . . # # . . . # . . # . . . . . . . . \n",
    ". . . # # # # # # # # # # # # # . # # . # # # # # # # . # # \n",
    ". . . # # . . . . . . . . # # . . . . . . . . . . . . . . . \n",
    ". . . . . . . . . . . . . . . . . . . . . . . . . . . . . .\n",
    ". . . # # . . . . . . . . # # . . . . . . . . . . . . . . .\n",
    "'''\n",
    "\n",
    "data.append((map_str1, width, height))\n",
    "\n",
    "map_str2 = '''\n",
    ". . . . . . . . . . . . . . . . . . # . . # # . . . . . . .  \n",
    ". . . . . . . . . . . . . . . . . . . . . # # . . . . . . . \n",
    ". . . . . . . . . . . . . # # . . . . . . . . . . . . . . . \n",
    ". . . . . . . . . . . . . . . . . . # . . # # . . . . . . . \n",
    ". . . . . . . . . . . . . . . . . . # . . . . . . . . . . . \n",
    ". . . # # . . . . . . . . . . . . . . . . # . # # # . . . . \n",
    ". . . # # . . . . . . . . . . . . . . . . # . # # # . . . . \n",
    ". . . . . . . # . . # . . # # . . . # . . # . . . . . . . . \n",
    ". . . . . . . # . . . . . # # . . . . . . # . . . . . . . . \n",
    ". . . . . . . # . . # . . # # . . . # . . # . . . . . . . . \n",
    ". . . . . . . . . . . . . . . . . . . . . . . . . . . . . . \n",
    ". . . # # . . . . . . # # . . # . # # . # . # # # # # . # # \n",
    ". . . # # . . . . . . . . . . . . . . . . . . . . . . . . . \n",
    ". . . . . . . . . . . . . . . . . . . . . . . . . . . . . .\n",
    ". . . # # . . . . . . . . # # . . . . . . . . . . . . . . .\n",
    "'''\n",
    "\n",
    "data.append((map_str2, width, height))\n",
    "\n",
    "map_str3 = '''\n",
    ". . . . . . . . . . . . . . . . . . . . . . . . . . . . . .  \n",
    ". . . . . . . . . . . . . . . . . . . . . . . . . . . . . . \n",
    ". . . . . . . . . . . . . . . . . . . . . . . . . . . . . . \n",
    ". . . . . . . . . . . . . . . . . . . . . . . . . . . . . . \n",
    ". . . . . . . . . . . . . . . . . . . . . . . . . . . . . . \n",
    ". . . . . . . . . . . . . . . . . . . . . . . . . . . . . . \n",
    ". . . . . . . . . . . . . . . . . . . . . . . . . . . . . . \n",
    ". . . . . . . . . . . . . . . . . . . . . . . . . . . . . . \n",
    ". . . . . . . . . . . . . . . . . . . . . . . . . . . . . . \n",
    ". . . . . . . . . . . . . . . . . . . . . . . . . . . . . . \n",
    ". . . . . . . . . . . . . . . . . . . . . . . . . . . . . . \n",
    ". . . . . . . . . . . . . . . . . . . . . . . . . . . . . . \n",
    ". . . . . . . . . . . . . . . . . . . . . . . . . . . . . . \n",
    ". . . . . . . . . . . . . . . . . . . . . . . . . . . . . .\n",
    ". . . . . . . . . . . . . . . . . . . . . . . . . . . . . .\n",
    "'''\n",
    "\n",
    "data.append((map_str3, width, height))\n",
    "\n",
    "test_maps = [Map().read_from_string(*dt) for dt in data]"
   ]
  },
  {
   "cell_type": "code",
   "execution_count": 3,
   "metadata": {},
   "outputs": [],
   "source": [
    "import numpy as np \n",
    "import random\n",
    "\n",
    "def gen_tasks(task_map: Map, num_of_tasks, mode=\"sides\"):\n",
    "    width, height = task_map.get_size()\n",
    "    avalable_points = []\n",
    "    if mode == \"sides\":\n",
    "        for i in range(1, width - 1):\n",
    "            if task_map.traversable(i, 0):\n",
    "                avalable_points.append((i, 0))\n",
    "                \n",
    "            if task_map.traversable(i, height - 1):\n",
    "                avalable_points.append((i,height - 1))    \n",
    "        \n",
    "        for j in range(1, height - 1):\n",
    "            if task_map.traversable(0, j):\n",
    "                avalable_points.append((0,j))    \n",
    "            \n",
    "            if task_map.traversable(width - 1, j):\n",
    "                avalable_points.append((width - 1, j))\n",
    "    elif mode == \"all\":\n",
    "        for i in range(1, width - 1):\n",
    "            for j in range(1, height - 1):\n",
    "                if task_map.traversable(i,j):\n",
    "                    avalable_points.append((i,j))  \n",
    "    else:\n",
    "        return None, None  \n",
    "    # random.seed(100)\n",
    "    starts = random.sample(avalable_points, num_of_tasks)\n",
    "    finishes = random.sample(avalable_points, num_of_tasks)\n",
    "    return starts, finishes"
   ]
  },
  {
   "cell_type": "code",
   "execution_count": 6,
   "metadata": {},
   "outputs": [],
   "source": [
    "n = 39\n",
    "num_of_map = -1\n",
    "starts, goals = gen_tasks(test_maps[num_of_map], n, mode=\"sides\")\n",
    "order = random.shuffle(list(range(n)))\n",
    "dyn_obst_traj = FixedOrderSearch(starts, goals, test_maps[num_of_map], order=order)\n",
    "\n"
   ]
  },
  {
   "cell_type": "code",
   "execution_count": 7,
   "metadata": {},
   "outputs": [
    {
     "name": "stderr",
     "output_type": "stream",
     "text": [
      "100%|██████████| 60/60 [00:01<00:00, 58.55it/s]\n"
     ]
    }
   ],
   "source": [
    "visualization.draw(test_maps[num_of_map], dyn_obst_traj, 60)"
   ]
  }
 ],
 "metadata": {
  "kernelspec": {
   "display_name": "base",
   "language": "python",
   "name": "python3"
  },
  "language_info": {
   "codemirror_mode": {
    "name": "ipython",
    "version": 3
   },
   "file_extension": ".py",
   "mimetype": "text/x-python",
   "name": "python",
   "nbconvert_exporter": "python",
   "pygments_lexer": "ipython3",
   "version": "3.9.13"
  },
  "orig_nbformat": 4,
  "vscode": {
   "interpreter": {
    "hash": "ad2bdc8ecc057115af97d19610ffacc2b4e99fae6737bb82f5d7fb13d2f2c186"
   }
  }
 },
 "nbformat": 4,
 "nbformat_minor": 2
}
